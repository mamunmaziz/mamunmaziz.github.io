{
 "cells": [
  {
   "cell_type": "code",
   "execution_count": null,
   "metadata": {},
   "outputs": [],
   "source": [
    "import re\n",
    "import urllib.request\n",
    "url = \"https://digitalcoinprice.com/coins/\"\n",
    "coin = input(\"Enter cryto coin full name: \")\n",
    "url = url + coin\n",
    "data= urllib.request.urlopen(url).read()\n",
    "data1 = data.decode(\"utf-8\")\n",
    "\n",
    "m = re.search('<span class=\"price\" data-usd=\"', data1)\n",
    "start = m.start()\n",
    "end = start + 50\n",
    "newString = data1[start:end]\n",
    "\n",
    "m = re.search('data-usd=\"',newString)\n",
    "start = m.end()\n",
    "newString1 = newString[start:]\n",
    "\n",
    "\n",
    "m = re.search('data-btc=\"',newString1)\n",
    "start = 0\n",
    "end = m.end()-11\n",
    "final = newString1[0:end]\n",
    "print(\"The value of \" + coin.upper() + \" is USD $\" + final)"
   ]
  }
 ],
 "metadata": {
  "kernelspec": {
   "display_name": "Python 3",
   "language": "python",
   "name": "python3"
  },
  "language_info": {
   "codemirror_mode": {
    "name": "ipython",
    "version": 3
   },
   "file_extension": ".py",
   "mimetype": "text/x-python",
   "name": "python",
   "nbconvert_exporter": "python",
   "pygments_lexer": "ipython3",
   "version": "3.8.5"
  }
 },
 "nbformat": 4,
 "nbformat_minor": 4
}
